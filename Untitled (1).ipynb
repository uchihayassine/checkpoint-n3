{
 "cells": [
  {
   "cell_type": "code",
   "execution_count": 3,
   "id": "20bc085c",
   "metadata": {},
   "outputs": [
    {
     "name": "stdout",
     "output_type": "stream",
     "text": [
      "35\n"
     ]
    }
   ],
   "source": [
    "#EX1:\n",
    "def max_of_two( x, y ):\n",
    "    if x > y:\n",
    "        return x\n",
    "    return y\n",
    "def max_of_three( x, y, z ):\n",
    "    return max_of_two( x, max_of_two( y, z ) )\n",
    "print(max_of_three(20, 35, 19))"
   ]
  },
  {
   "cell_type": "code",
   "execution_count": 4,
   "id": "a6dfc0c7",
   "metadata": {},
   "outputs": [
    {
     "name": "stdout",
     "output_type": "stream",
     "text": [
      "(50, 30)\n"
     ]
    }
   ],
   "source": [
    "#EX2:\n",
    "def calculation(a,b):\n",
    "  x=int(a)\n",
    "  y=int(b)\n",
    "  return (x+y,x-y)\n",
    "print(calculation(40,10))"
   ]
  },
  {
   "cell_type": "code",
   "execution_count": 8,
   "id": "b426e087",
   "metadata": {},
   "outputs": [
    {
     "name": "stdout",
     "output_type": "stream",
     "text": [
      "sum= 40 multiplication= 151200\n"
     ]
    }
   ],
   "source": [
    "#EX3:\n",
    "l1=[8,1,3,6,5,2,3,5,7]\n",
    "def sum(list):\n",
    "  s=0\n",
    "  for i in range(0,len(l1)):\n",
    "    s=s+l1[i]\n",
    "  return s\n",
    "def multi(list):\n",
    "  s=1\n",
    "  for i in range(len(l1)):\n",
    "    s=s*l1[i]\n",
    "  return s\n",
    "total=[]\n",
    "mult=[]\n",
    "for i in range(len(l1)):\n",
    "  if i%2==0:\n",
    "    total.append(l1[i])\n",
    "  else:\n",
    "    mult.append(l1[i])\n",
    "print(\"sum=\",sum(total),'multiplication=',multi(mult))"
   ]
  },
  {
   "cell_type": "code",
   "execution_count": 13,
   "id": "f3efa618",
   "metadata": {},
   "outputs": [
    {
     "name": "stdout",
     "output_type": "stream",
     "text": [
      "azza-zeineb-yassine\n",
      "azza-yassine-zeineb\n"
     ]
    }
   ],
   "source": [
    "#EX4\n",
    "items=[n for n in input().split('-')]\n",
    "items.sort()\n",
    "print('-'.join(items))"
   ]
  },
  {
   "cell_type": "code",
   "execution_count": 16,
   "id": "7d7b3744",
   "metadata": {},
   "outputs": [
    {
     "name": "stdout",
     "output_type": "stream",
     "text": [
      "45,52,89\n",
      "12,13,17\n"
     ]
    }
   ],
   "source": [
    "#EX5:\n",
    "\n",
    "import math\n",
    "c=50\n",
    "h=30\n",
    "value = []\n",
    "items=[x for x in input().split(',')]\n",
    "for d in items:\n",
    "    value.append(str(int(round(math.sqrt(2*c*float(d)/h)))))\n",
    "\n",
    "print(','.join(value))\n"
   ]
  }
 ],
 "metadata": {
  "kernelspec": {
   "display_name": "Python 3",
   "language": "python",
   "name": "python3"
  },
  "language_info": {
   "codemirror_mode": {
    "name": "ipython",
    "version": 3
   },
   "file_extension": ".py",
   "mimetype": "text/x-python",
   "name": "python",
   "nbconvert_exporter": "python",
   "pygments_lexer": "ipython3",
   "version": "3.8.8"
  }
 },
 "nbformat": 4,
 "nbformat_minor": 5
}
